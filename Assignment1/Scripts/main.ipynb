{
 "cells": [
  {
   "cell_type": "code",
   "execution_count": null,
   "metadata": {},
   "outputs": [],
   "source": [
    "# Import necessary modules; data_preprocessor.py file is loaded as dp\n",
    "import data_preprocessor as dp\n",
    "import pandas as pd\n",
    "import matplotlib.pyplot as plt\n",
    "import seaborn as sns\n",
    "from sklearn.linear_model import LogisticRegression\n",
    "from sklearn.metrics import accuracy_score\n",
    "\n",
    "# 1. Load the dataset\n",
    "messy_data = pd.read_csv(r'C:\\Users\\simra\\BINF-5507-Materials\\Assignment1\\Data\\messy_data.csv')\n",
    "clean_data = messy_data.copy()\n"
   ]
  },
  {
   "cell_type": "code",
   "execution_count": null,
   "metadata": {},
   "outputs": [],
   "source": [
    "\n",
    "# 2. Explore the dataset\n",
    "print(\"Initial Data Overview:\")\n",
    "messy_data.head()\n",
    "messy_data.info()\n",
    "messy_data.describe()\n",
    "\n",
    "#Convert target to categorical data\n",
    "messy_data['target'] = messy_data['target'].astype('category')\n",
    "clean_data['target'] = clean_data['target'].astype('category')\n"
   ]
  },
  {
   "cell_type": "code",
   "execution_count": null,
   "metadata": {},
   "outputs": [],
   "source": [
    "# 2. Exploration Continued - Visualization\n",
    "#Identify outliers using histogram and scatter plot\n",
    "plt.figure(figsize=(10, 6))\n",
    "sns.histplot(messy_data['b'], bins=30, kde=True)\n",
    "plt.title('Distribution of Feature B')\n",
    "plt.xlabel('B')\n",
    "plt.ylabel('Frequency')\n",
    "plt.show()\n",
    "\n",
    "plt.figure(figsize=(10, 6))\n",
    "sns.histplot(messy_data['c'], bins=30, kde=True)\n",
    "plt.title('Distribution of Feature C')\n",
    "plt.xlabel('C')\n",
    "plt.ylabel('Frequency')\n",
    "plt.show()\n",
    "\n",
    "plt.figure(figsize=(10, 6))\n",
    "sns.histplot(messy_data['f'], bins=30, kde=True)\n",
    "plt.title('Distribution of Feature F')\n",
    "plt.xlabel('D')\n",
    "plt.ylabel('Frequency')\n",
    "plt.show()\n",
    "\n",
    "sns.scatterplot(data=messy_data, x='b', y='c', hue='target', alpha=0.6)\n",
    "plt.title('Scatter Plot of Features B vs C')\n",
    "plt.xlabel('B')\n",
    "plt.ylabel('C')\n",
    "plt.show()\n",
    "\n",
    "sns.scatterplot(data=messy_data, x='c', y='f', hue='target', alpha=0.6)\n",
    "plt.title('Scatter Plot of Features C vs F')\n",
    "plt.xlabel('C')\n",
    "plt.ylabel('D')\n",
    "plt.show()\n",
    "\n",
    "sns.countplot(messy_data['target'])\n",
    "plt.title('Bar Graph of Target')\n",
    "plt.show()\n",
    "\n",
    "sns.countplot(messy_data['d'])\n",
    "plt.title('Bar Graph of D - Type of Defect')\n",
    "plt.show()\n",
    "\n",
    "sns.countplot(messy_data['s'])\n",
    "plt.title('Bar Graph of S - Sex')\n",
    "plt.show()"
   ]
  },
  {
   "cell_type": "code",
   "execution_count": null,
   "metadata": {},
   "outputs": [],
   "source": [
    "# 3. Clean the dataset, handle columns with large number of missing values\n",
    "missing = messy_data.isnull().mean().sort_values(ascending=False)\n",
    "print(\"Missing Values Percentage:\")\n",
    "print((missing * 100).round(2).astype(str) + '%')"
   ]
  },
  {
   "cell_type": "code",
   "execution_count": null,
   "metadata": {},
   "outputs": [],
   "source": [
    "# 3. Dropping columns x, d, j and z manually -> these columns have more than 50% missing values\n",
    "clean_data = clean_data.drop(columns=['x', 'd', 'j', 'z'], axis=1)\n",
    "\n",
    "# 4. Handle missing values in the remaining columns\n",
    "clean_data = dp.impute_missing_values(clean_data, strategy='mean')\n",
    "#Remove duplicates\n",
    "clean_data = dp.remove_duplicates(clean_data)\n",
    "#Normalize numerical data\n",
    "clean_data = dp.normalize_data(clean_data)\n",
    "#Remove redundant features\n",
    "clean_data = dp.remove_redundant_features(clean_data)\n",
    "\n",
    "# 5. Save the cleaned dataset\n",
    "clean_data.to_csv(r'C:\\Users\\simra\\BINF-5507-Materials\\Assignment1\\Data\\clean_data.csv', index=False)"
   ]
  },
  {
   "cell_type": "code",
   "execution_count": null,
   "metadata": {},
   "outputs": [],
   "source": [
    "# 6. Train and evaluate the model\n",
    "dp.simple_model(clean_data)"
   ]
  }
 ],
 "metadata": {
  "kernelspec": {
   "display_name": "default",
   "language": "python",
   "name": "python3"
  },
  "language_info": {
   "codemirror_mode": {
    "name": "ipython",
    "version": 3
   },
   "file_extension": ".py",
   "mimetype": "text/x-python",
   "name": "python",
   "nbconvert_exporter": "python",
   "pygments_lexer": "ipython3",
   "version": "3.13.3"
  }
 },
 "nbformat": 4,
 "nbformat_minor": 2
}
