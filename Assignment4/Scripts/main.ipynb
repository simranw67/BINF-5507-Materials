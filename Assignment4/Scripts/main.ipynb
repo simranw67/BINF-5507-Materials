{
 "cells": [
  {
   "cell_type": "markdown",
   "id": "f8b1d846",
   "metadata": {},
   "source": [
    "# Assignment 4 Survival Analysis\n",
    "Applications for Kaplan-Meier survivall curves, Cox Proportional Hazards regression and Randon Survival Forests(RSF)\n",
    "\n",
    "Using clinical dataset from The Cancer Imaging Archive, which contains survival time, event indicators and covariates (age, treatment type and tumor stage)."
   ]
  },
  {
   "cell_type": "code",
   "execution_count": null,
   "metadata": {
    "vscode": {
     "languageId": "plaintext"
    }
   },
   "outputs": [],
   "source": [
    "# Load libraries\n",
    "import numpy as np \n",
    "import pandas as pd \n",
    "import matplotlib.pyplot as plt \n",
    "import seaborn as sns\n",
    "\n",
    "# Preprocessing\n",
    "from datatime import datetime\n",
    "from sksurv.util import Surv\n",
    "\n",
    "# Kaplan-Meier \n",
    "from lifelines import KaplanMeierFitter\n",
    "\n",
    "# Cox\n",
    "from lifelines import CoxPHFitter\n",
    "from sksurv.linear_model import CoxNetSurvivalAnalysis\n",
    "from sklearn.model_selection import train_test_split\n",
    "from sksurv.metrics import concodance_index_censored\n",
    "\n",
    "# Random Survival Forest\n",
    "from sksurv.ensemble import RandomSurvivalForest\n",
    "from sksurv.preprocessing import OneHotEncoder\n",
    "from sklearn.inspection import permutation_importance\n"
   ]
  },
  {
   "cell_type": "code",
   "execution_count": null,
   "id": "2a5bdc4a",
   "metadata": {
    "vscode": {
     "languageId": "plaintext"
    }
   },
   "outputs": [],
   "source": [
    "# Load data\n",
    "cancersurviv = pd.read_excel('RADCURE_Clinical_v04_20241219.xlsx', sheet_name=None)\n",
    "# if it doesn't work add engine = 'openpyxl'\n",
    "\n",
    "cancersurviv.head()\n",
    "cancersurviv.info()\n",
    "\n",
    "# Preprocessing\n",
    "# Need to make time column potentially?\n",
    "\n",
    "# Convert date columns to datetime format\n",
    "clinical_data[\"Date of Last Known Alive\"] = pd.to_datetime(clinical_data[\"Date of Last Known Alive\"], format=\"%m/%d/%Y\")\n",
    "clinical_data[\"CT Date\"] = pd.to_datetime(clinical_data[\"CT Date\"], format=\"%m/%d/%Y\")\n",
    "\n",
    "# Calculate time in days\n",
    "clinical_data[\"time\"] = (clinical_data[\"Date of Last Known Alive\"] - clinical_data[\"CT Date\"]).dt.days - clinical_data['Days between CT and surgery']\n",
    "\n",
    "# Need to turn the survival thing into a boolean event indicator \n",
    "# (where the endpoint) corresponds to True (meaning the even has been obvserved)\n",
    "# Convert event column to boolean (Death = True, Alive = False)\n",
    "clinical_data[\"event\"] = clinical_data[\"Survival Status\"].apply(lambda x: True if x == \"Death\" else False)\n",
    "\n",
    "# Convert to sksurv structured array format\n",
    "survival_data = Surv.from_dataframe(\"event\", \"time\", clinical_data)\n"
   ]
  },
  {
   "cell_type": "markdown",
   "id": "dfd1204c",
   "metadata": {},
   "source": [
    "### Kaplan-Meier Analysis \n",
    "- Generate Kaplan-Meier survival curves for at least two distinct groups (ex treatment type, age group or tumor stage) ensuring each group has its own plot.\n",
    "- For each plot, conduct a log-rank test to compare survival differences between the groups"
   ]
  },
  {
   "cell_type": "code",
   "execution_count": null,
   "id": "4efa51e7",
   "metadata": {
    "vscode": {
     "languageId": "plaintext"
    }
   },
   "outputs": [],
   "source": [
    "# Generate survival curves\n",
    "\n",
    "# Fit the Kaplan-Meier estimator\n",
    "kmf = KaplanMeierFitter()\n",
    "kmf.fit(data['week'], event_observed=data['arrest'])\n",
    "\n",
    "# Plot the Kaplan-Meier curve\n",
    "kmf.plot_survival_function()\n",
    "plt.title('Kaplan-Meier Curve')\n",
    "plt.xlabel('Time (weeks)')\n",
    "plt.ylabel('Survival Probability')\n",
    "plt.show()"
   ]
  },
  {
   "cell_type": "code",
   "execution_count": null,
   "id": "232235dd",
   "metadata": {
    "vscode": {
     "languageId": "plaintext"
    }
   },
   "outputs": [],
   "source": [
    "# Log-rank test"
   ]
  },
  {
   "cell_type": "markdown",
   "id": "0c1ad98f",
   "metadata": {},
   "source": [
    "### Cox Proportional Hazards Regression\n",
    "- Perform a Cox regression analysis, including at least three covariates\n",
    "- Validate the proportional hazards assumption"
   ]
  },
  {
   "cell_type": "code",
   "execution_count": null,
   "id": "35abf6f2",
   "metadata": {
    "vscode": {
     "languageId": "plaintext"
    }
   },
   "outputs": [],
   "source": [
    "# Cox regression analysis\n",
    "\n",
    "# Prepare the data for sksurv\n",
    "# X = data.drop(columns=['week', 'arrest']).astype(float)\n",
    "# y = np.array([(bool(event), time) for event, time in zip(data['arrest'], data['week'])], dtype=[('event', bool), ('time', float)])\n",
    "\n",
    "# Split the data into training and testing sets\n",
    "# X_train, X_test, y_train, y_test = train_test_split(X, y, test_size=0.2, random_state=42)\n",
    "\n",
    "# Fit the Cox proportional hazards model with L1 regularization\n",
    "# cph_lasso = CoxnetSurvivalAnalysis(l1_ratio=1.0)\n",
    "# cph_lasso.fit(X_train, y_train)\n",
    "\n",
    "# Predict the risk scores on the test set\n",
    "# risk_scores = cph_lasso.predict(X_test)\n",
    "\n",
    "\n",
    "\n",
    "\n",
    "# Validate proportional hazards assumption"
   ]
  },
  {
   "cell_type": "markdown",
   "id": "a18a15fe",
   "metadata": {},
   "source": [
    "### Random Survival Forests (RSF)\n",
    "- Build a Random Survival Forest model to predict survival.\n",
    "- Perform variable importance analysis to identfy the most predictive factors. \n",
    "- Compare the model's concordance index (C-index) with that of Cox regression."
   ]
  },
  {
   "cell_type": "code",
   "execution_count": null,
   "id": "3bcb9f29",
   "metadata": {
    "vscode": {
     "languageId": "plaintext"
    }
   },
   "outputs": [],
   "source": [
    "# Random Survival Forest\n",
    "\n",
    "# Load the WHAS500 dataset\n",
    "data_x, data_y = load_whas500()\n",
    "\n",
    "# Encode categorical variables\n",
    "encoder = OneHotEncoder()\n",
    "data_x = encoder.fit_transform(data_x)\n",
    "\n",
    "# Train a Random Survival Forest model\n",
    "rsf = RandomSurvivalForest(n_estimators=100, random_state=42)\n",
    "rsf.fit(data_x, data_y)\n",
    "\n",
    "# please refer to https://scikit-survival.readthedocs.io/en/stable/user_guide/random-survival-forest.html\n",
    "result = permutation_importance(rsf, data_x, data_y, n_repeats=15, random_state=42)\n",
    "feature_importance = pd.DataFrame(\n",
    "         {\n",
    "        k: result[k]\n",
    "        for k in (\n",
    "            \"importances_mean\",\n",
    "            \"importances_std\",\n",
    "        )\n",
    "    },\n",
    "    index=data_x.columns,\n",
    ").sort_values(by=\"importances_mean\", ascending=False)\n",
    "\n",
    "# Sort by importances_mean and plot\n",
    "feature_importance = feature_importance.sort_values(by=\"importances_mean\", ascending=False)\n",
    "\n",
    "plt.figure(figsize=(10, 6))\n",
    "plt.title('Feature Importances')\n",
    "plt.barh(feature_importance.index, feature_importance['importances_mean'], xerr=feature_importance['importances_std'], align='center')\n",
    "plt.xlabel('Mean Importance')\n",
    "plt.ylabel('Features')\n",
    "plt.gca().invert_yaxis()\n",
    "plt.tight_layout()\n",
    "plt.show()\n",
    "\n",
    "\n",
    "# Variable importance analysis"
   ]
  },
  {
   "cell_type": "code",
   "execution_count": null,
   "id": "3c232da5",
   "metadata": {
    "vscode": {
     "languageId": "plaintext"
    }
   },
   "outputs": [],
   "source": [
    "# Concordance index with Cox regression\n",
    "# Calculate the concordance index\n",
    "# c_index = concordance_index_censored(y_test['event'], y_test['time'], risk_scores)[0]\n",
    "# print(f'Concordance Index: {c_index:.4f}')"
   ]
  }
 ],
 "metadata": {
  "language_info": {
   "name": "python"
  }
 },
 "nbformat": 4,
 "nbformat_minor": 5
}
