{
 "cells": [
  {
   "cell_type": "markdown",
   "id": "f8b1d846",
   "metadata": {},
   "source": [
    "# Assignment 4 Survival Analysis\n",
    "Applications for Kaplan-Meier survivall curves, Cox Proportional Hazards regression and Randon Survival Forests(RSF)\n",
    "\n",
    "Using clinical dataset from The Cancer Imaging Archive, which contains survival time, event indicators and covariates (age, treatment type and tumor stage)."
   ]
  },
  {
   "cell_type": "code",
   "execution_count": null,
   "id": "2a5bdc4a",
   "metadata": {
    "vscode": {
     "languageId": "plaintext"
    }
   },
   "outputs": [],
   "source": [
    "# Load data\n",
    "\n",
    "# Preprocessing"
   ]
  },
  {
   "cell_type": "markdown",
   "id": "dfd1204c",
   "metadata": {},
   "source": [
    "### Kaplan-Meier Analysis \n",
    "- Generate Kaplan-Meier survival curves for at least two distinct groups (ex treatment type, age group or tumor stage) ensuring each group has its own plot.\n",
    "- For each plot, conduct a log-rank test to compare survival differences between the groups"
   ]
  },
  {
   "cell_type": "code",
   "execution_count": null,
   "id": "4efa51e7",
   "metadata": {
    "vscode": {
     "languageId": "plaintext"
    }
   },
   "outputs": [],
   "source": [
    "# Generate survival curves\n",
    "\n"
   ]
  },
  {
   "cell_type": "code",
   "execution_count": null,
   "id": "232235dd",
   "metadata": {
    "vscode": {
     "languageId": "plaintext"
    }
   },
   "outputs": [],
   "source": [
    "# Log-rank test"
   ]
  },
  {
   "cell_type": "markdown",
   "id": "0c1ad98f",
   "metadata": {},
   "source": [
    "### Cox Proportional Hazards Regression\n",
    "- Perform a Cox regression analysis, including at least three covariates\n",
    "- Validate the proportional hazards assumption"
   ]
  },
  {
   "cell_type": "code",
   "execution_count": null,
   "id": "35abf6f2",
   "metadata": {
    "vscode": {
     "languageId": "plaintext"
    }
   },
   "outputs": [],
   "source": [
    "# Cox regression analysis\n",
    "\n",
    "# Validate proportional hazards assumption"
   ]
  },
  {
   "cell_type": "markdown",
   "id": "a18a15fe",
   "metadata": {},
   "source": [
    "### Random Survival Forests (RSF)\n",
    "- Build a Random Survival Forest model to predict survival.\n",
    "- Perform variable importance analysis to identfy the most predictive factors. \n",
    "- Compare the model's concordance index (C-index) with that of Cox regression."
   ]
  },
  {
   "cell_type": "code",
   "execution_count": null,
   "id": "3bcb9f29",
   "metadata": {
    "vscode": {
     "languageId": "plaintext"
    }
   },
   "outputs": [],
   "source": [
    "# Random Survival Forest\n",
    "\n",
    "# Variable importance analysis"
   ]
  },
  {
   "cell_type": "code",
   "execution_count": null,
   "id": "3c232da5",
   "metadata": {
    "vscode": {
     "languageId": "plaintext"
    }
   },
   "outputs": [],
   "source": [
    "# Concordance index with Cox regression"
   ]
  }
 ],
 "metadata": {
  "language_info": {
   "name": "python"
  }
 },
 "nbformat": 4,
 "nbformat_minor": 5
}
